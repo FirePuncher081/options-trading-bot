{
 "cells": [
  {
   "cell_type": "code",
   "execution_count": 2,
   "id": "3ea90a82-de35-4a07-990f-b6ca636980bf",
   "metadata": {},
   "outputs": [
    {
     "name": "stdout",
     "output_type": "stream",
     "text": [
      "Cleaned data saved to: ../data/processed/multi_ticker_options_clean.csv\n",
      "Shape: (1869, 20)\n"
     ]
    }
   ],
   "source": [
    "import pandas as pd\n",
    "import os\n",
    "\n",
    "# Load raw data\n",
    "csv_path = os.path.join(\"..\", \"data\", \"raw\", \"multi_ticker_options.csv\")\n",
    "df = pd.read_csv(csv_path)\n",
    "\n",
    "# Drop rows with missing values\n",
    "df_cleaned = df.dropna()\n",
    "\n",
    "# Optional: drop duplicates if they exist\n",
    "df_cleaned = df_cleaned.drop_duplicates()\n",
    "\n",
    "# Save cleaned version\n",
    "output_path = os.path.join(\"..\", \"data\", \"processed\", \"multi_ticker_options_clean.csv\")\n",
    "df_cleaned.to_csv(output_path, index=False)\n",
    "\n",
    "print(\"Cleaned data saved to:\", output_path)\n",
    "print(\"Shape:\", df_cleaned.shape)"
   ]
  },
  {
   "cell_type": "code",
   "execution_count": null,
   "id": "f9521200-f9fb-47f6-be02-6821d9b18e72",
   "metadata": {},
   "outputs": [],
   "source": []
  }
 ],
 "metadata": {
  "kernelspec": {
   "display_name": "Python 3 (ipykernel)",
   "language": "python",
   "name": "python3"
  },
  "language_info": {
   "codemirror_mode": {
    "name": "ipython",
    "version": 3
   },
   "file_extension": ".py",
   "mimetype": "text/x-python",
   "name": "python",
   "nbconvert_exporter": "python",
   "pygments_lexer": "ipython3",
   "version": "3.13.5"
  }
 },
 "nbformat": 4,
 "nbformat_minor": 5
}

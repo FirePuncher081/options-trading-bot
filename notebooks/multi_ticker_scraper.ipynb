{
 "cells": [
  {
   "cell_type": "code",
   "execution_count": 1,
   "id": "d76c42b0",
   "metadata": {},
   "outputs": [
    {
     "name": "stdout",
     "output_type": "stream",
     "text": [
      "✅ Saved expanded options dataset with shape: (1869, 20)\n"
     ]
    }
   ],
   "source": [
    "import yfinance as yf\n",
    "import pandas as pd\n",
    "from datetime import datetime\n",
    "\n",
    "# Tickers and how many expirations to collect per ticker\n",
    "tickers = [\"SPY\", \"AAPL\", \"QQQ\", \"TSLA\", \"MSFT\"]\n",
    "max_expirations = 4  # fetch next 4 expiration dates\n",
    "\n",
    "all_options = []\n",
    "\n",
    "for ticker_symbol in tickers:\n",
    "    ticker = yf.Ticker(ticker_symbol)\n",
    "    expirations = ticker.options[:max_expirations]\n",
    "    \n",
    "    for exp_date in expirations:\n",
    "        try:\n",
    "            opt_chain = ticker.option_chain(exp_date).calls\n",
    "            spot_price = ticker.history(period=\"1d\")[\"Close\"].iloc[-1]\n",
    "            expiry_date = pd.to_datetime(exp_date)\n",
    "            days_to_expiry = (expiry_date - pd.Timestamp.today()).days\n",
    "\n",
    "            opt_chain[\"ticker\"] = ticker_symbol\n",
    "            opt_chain[\"expiry\"] = expiry_date\n",
    "            opt_chain[\"days_to_expiry\"] = days_to_expiry\n",
    "            opt_chain[\"spot_price\"] = spot_price\n",
    "            opt_chain[\"moneyness\"] = opt_chain[\"strike\"] / spot_price\n",
    "            opt_chain[\"date_collected\"] = pd.Timestamp.today()\n",
    "\n",
    "            all_options.append(opt_chain)\n",
    "        except Exception as e:\n",
    "            print(f\"Error with {ticker_symbol} on {exp_date}: {e}\")\n",
    "\n",
    "# Combine into one DataFrame\n",
    "df_all = pd.concat(all_options).reset_index(drop=True)\n",
    "\n",
    "# Optional cleanup\n",
    "df_all = df_all[df_all['impliedVolatility'] < 5]\n",
    "df_all = df_all.dropna()\n",
    "\n",
    "# Save to CSV\n",
    "df_all.to_csv(\"../data/raw/multi_ticker_options.csv\", index=False)\n",
    "print(\"✅ Saved expanded options dataset with shape:\", df_all.shape)"
   ]
  },
  {
   "cell_type": "code",
   "execution_count": null,
   "id": "f606d291-525f-44e2-a9c4-66f556fa5565",
   "metadata": {},
   "outputs": [],
   "source": []
  }
 ],
 "metadata": {
  "kernelspec": {
   "display_name": "Python 3 (ipykernel)",
   "language": "python",
   "name": "python3"
  },
  "language_info": {
   "codemirror_mode": {
    "name": "ipython",
    "version": 3
   },
   "file_extension": ".py",
   "mimetype": "text/x-python",
   "name": "python",
   "nbconvert_exporter": "python",
   "pygments_lexer": "ipython3",
   "version": "3.13.5"
  }
 },
 "nbformat": 4,
 "nbformat_minor": 5
}

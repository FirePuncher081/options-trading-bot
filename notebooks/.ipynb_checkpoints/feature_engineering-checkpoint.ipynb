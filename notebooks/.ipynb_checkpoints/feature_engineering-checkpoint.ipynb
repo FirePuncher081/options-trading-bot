{
 "cells": [
  {
   "cell_type": "code",
   "execution_count": 1,
   "id": "d8ec7e69-6f4e-4bb7-9436-d33aebcf9fb9",
   "metadata": {},
   "outputs": [
    {
     "name": "stdout",
     "output_type": "stream",
     "text": [
      "✅ Combined 1 files | 231 total rows\n"
     ]
    },
    {
     "data": {
      "text/html": [
       "<div>\n",
       "<style scoped>\n",
       "    .dataframe tbody tr th:only-of-type {\n",
       "        vertical-align: middle;\n",
       "    }\n",
       "\n",
       "    .dataframe tbody tr th {\n",
       "        vertical-align: top;\n",
       "    }\n",
       "\n",
       "    .dataframe thead th {\n",
       "        text-align: right;\n",
       "    }\n",
       "</style>\n",
       "<table border=\"1\" class=\"dataframe\">\n",
       "  <thead>\n",
       "    <tr style=\"text-align: right;\">\n",
       "      <th></th>\n",
       "      <th>contractSymbol</th>\n",
       "      <th>lastTradeDate</th>\n",
       "      <th>strike</th>\n",
       "      <th>lastPrice</th>\n",
       "      <th>bid</th>\n",
       "      <th>ask</th>\n",
       "      <th>change</th>\n",
       "      <th>percentChange</th>\n",
       "      <th>volume</th>\n",
       "      <th>openInterest</th>\n",
       "      <th>impliedVolatility</th>\n",
       "      <th>inTheMoney</th>\n",
       "      <th>contractSize</th>\n",
       "      <th>currency</th>\n",
       "      <th>expiration</th>\n",
       "      <th>retrieved</th>\n",
       "      <th>ticker</th>\n",
       "    </tr>\n",
       "  </thead>\n",
       "  <tbody>\n",
       "    <tr>\n",
       "      <th>0</th>\n",
       "      <td>AAPL250620C00005000</td>\n",
       "      <td>2025-06-13 18:58:54+00:00</td>\n",
       "      <td>5.0</td>\n",
       "      <td>191.26</td>\n",
       "      <td>190.80</td>\n",
       "      <td>191.85</td>\n",
       "      <td>-2.750000</td>\n",
       "      <td>-1.417453</td>\n",
       "      <td>10.0</td>\n",
       "      <td>826</td>\n",
       "      <td>14.640626</td>\n",
       "      <td>True</td>\n",
       "      <td>REGULAR</td>\n",
       "      <td>USD</td>\n",
       "      <td>2025-06-20</td>\n",
       "      <td>2025-06-15 14:32:54.038345</td>\n",
       "      <td>AAPL</td>\n",
       "    </tr>\n",
       "    <tr>\n",
       "      <th>1</th>\n",
       "      <td>AAPL250620C00010000</td>\n",
       "      <td>2025-06-09 17:59:26+00:00</td>\n",
       "      <td>10.0</td>\n",
       "      <td>192.64</td>\n",
       "      <td>185.40</td>\n",
       "      <td>187.55</td>\n",
       "      <td>0.000000</td>\n",
       "      <td>0.000000</td>\n",
       "      <td>40.0</td>\n",
       "      <td>51</td>\n",
       "      <td>8.125005</td>\n",
       "      <td>True</td>\n",
       "      <td>REGULAR</td>\n",
       "      <td>USD</td>\n",
       "      <td>2025-06-20</td>\n",
       "      <td>2025-06-15 14:32:54.038345</td>\n",
       "      <td>AAPL</td>\n",
       "    </tr>\n",
       "    <tr>\n",
       "      <th>2</th>\n",
       "      <td>AAPL250620C00015000</td>\n",
       "      <td>2025-06-13 13:47:55+00:00</td>\n",
       "      <td>15.0</td>\n",
       "      <td>182.12</td>\n",
       "      <td>180.35</td>\n",
       "      <td>182.65</td>\n",
       "      <td>-8.480011</td>\n",
       "      <td>-4.449114</td>\n",
       "      <td>2.0</td>\n",
       "      <td>5</td>\n",
       "      <td>7.437501</td>\n",
       "      <td>True</td>\n",
       "      <td>REGULAR</td>\n",
       "      <td>USD</td>\n",
       "      <td>2025-06-20</td>\n",
       "      <td>2025-06-15 14:32:54.038345</td>\n",
       "      <td>AAPL</td>\n",
       "    </tr>\n",
       "    <tr>\n",
       "      <th>3</th>\n",
       "      <td>AAPL250620C00020000</td>\n",
       "      <td>2025-06-03 13:50:53+00:00</td>\n",
       "      <td>20.0</td>\n",
       "      <td>183.00</td>\n",
       "      <td>175.40</td>\n",
       "      <td>177.10</td>\n",
       "      <td>0.000000</td>\n",
       "      <td>0.000000</td>\n",
       "      <td>1.0</td>\n",
       "      <td>6</td>\n",
       "      <td>9.203129</td>\n",
       "      <td>True</td>\n",
       "      <td>REGULAR</td>\n",
       "      <td>USD</td>\n",
       "      <td>2025-06-20</td>\n",
       "      <td>2025-06-15 14:32:54.038345</td>\n",
       "      <td>AAPL</td>\n",
       "    </tr>\n",
       "    <tr>\n",
       "      <th>4</th>\n",
       "      <td>AAPL250620C00025000</td>\n",
       "      <td>2025-06-13 18:58:54+00:00</td>\n",
       "      <td>25.0</td>\n",
       "      <td>171.33</td>\n",
       "      <td>170.35</td>\n",
       "      <td>172.15</td>\n",
       "      <td>-5.550003</td>\n",
       "      <td>-3.137722</td>\n",
       "      <td>4.0</td>\n",
       "      <td>4</td>\n",
       "      <td>8.363286</td>\n",
       "      <td>True</td>\n",
       "      <td>REGULAR</td>\n",
       "      <td>USD</td>\n",
       "      <td>2025-06-20</td>\n",
       "      <td>2025-06-15 14:32:54.038345</td>\n",
       "      <td>AAPL</td>\n",
       "    </tr>\n",
       "  </tbody>\n",
       "</table>\n",
       "</div>"
      ],
      "text/plain": [
       "        contractSymbol              lastTradeDate  strike  lastPrice     bid  \\\n",
       "0  AAPL250620C00005000  2025-06-13 18:58:54+00:00     5.0     191.26  190.80   \n",
       "1  AAPL250620C00010000  2025-06-09 17:59:26+00:00    10.0     192.64  185.40   \n",
       "2  AAPL250620C00015000  2025-06-13 13:47:55+00:00    15.0     182.12  180.35   \n",
       "3  AAPL250620C00020000  2025-06-03 13:50:53+00:00    20.0     183.00  175.40   \n",
       "4  AAPL250620C00025000  2025-06-13 18:58:54+00:00    25.0     171.33  170.35   \n",
       "\n",
       "      ask    change  percentChange  volume  openInterest  impliedVolatility  \\\n",
       "0  191.85 -2.750000      -1.417453    10.0           826          14.640626   \n",
       "1  187.55  0.000000       0.000000    40.0            51           8.125005   \n",
       "2  182.65 -8.480011      -4.449114     2.0             5           7.437501   \n",
       "3  177.10  0.000000       0.000000     1.0             6           9.203129   \n",
       "4  172.15 -5.550003      -3.137722     4.0             4           8.363286   \n",
       "\n",
       "   inTheMoney contractSize currency  expiration                   retrieved  \\\n",
       "0        True      REGULAR      USD  2025-06-20  2025-06-15 14:32:54.038345   \n",
       "1        True      REGULAR      USD  2025-06-20  2025-06-15 14:32:54.038345   \n",
       "2        True      REGULAR      USD  2025-06-20  2025-06-15 14:32:54.038345   \n",
       "3        True      REGULAR      USD  2025-06-20  2025-06-15 14:32:54.038345   \n",
       "4        True      REGULAR      USD  2025-06-20  2025-06-15 14:32:54.038345   \n",
       "\n",
       "  ticker  \n",
       "0   AAPL  \n",
       "1   AAPL  \n",
       "2   AAPL  \n",
       "3   AAPL  \n",
       "4   AAPL  "
      ]
     },
     "execution_count": 1,
     "metadata": {},
     "output_type": "execute_result"
    }
   ],
   "source": [
    "import pandas as pd\n",
    "import numpy as np\n",
    "import glob\n",
    "\n",
    "# Load all call options CSVs from /data/raw\n",
    "files = glob.glob(\"../data/raw/*_calls_*.csv\")\n",
    "\n",
    "df_list = [pd.read_csv(file) for file in files]\n",
    "df = pd.concat(df_list, ignore_index=True)\n",
    "print(f\"✅ Combined {len(files)} files | {df.shape[0]} total rows\")\n",
    "df.head()"
   ]
  },
  {
   "cell_type": "code",
   "execution_count": 2,
   "id": "e22cfb54-f44e-4c28-bc70-803032a8ecfd",
   "metadata": {},
   "outputs": [],
   "source": [
    "# Moneyness = strike / last price\n",
    "df[\"moneyness\"] = df[\"strike\"] / df[\"lastPrice\"]\n",
    "\n",
    "# Convert to datetime\n",
    "df[\"expiration\"] = pd.to_datetime(df[\"expiration\"])\n",
    "df[\"retrieved\"] = pd.to_datetime(df[\"retrieved\"])\n",
    "\n",
    "# Days to expiration\n",
    "df[\"days_to_exp\"] = (df[\"expiration\"] - df[\"retrieved\"]).dt.days"
   ]
  },
  {
   "cell_type": "code",
   "execution_count": 3,
   "id": "5c706c56-e40d-486a-9172-3b75a0b9331a",
   "metadata": {},
   "outputs": [
    {
     "name": "stdout",
     "output_type": "stream",
     "text": [
      "✅ Filtered dataset: (229, 19)\n"
     ]
    }
   ],
   "source": [
    "df = df[df[\"volume\"] > 0]\n",
    "df = df[df[\"impliedVolatility\"] > 0]\n",
    "df = df[df[\"days_to_exp\"] > 0]\n",
    "df.dropna(inplace=True)\n",
    "\n",
    "print(\"✅ Filtered shape:\", df.shape)"
   ]
  },
  {
   "cell_type": "code",
   "execution_count": 4,
   "id": "480f2334-48ca-4a51-8a40-96dd29c2282b",
   "metadata": {},
   "outputs": [
    {
     "name": "stdout",
     "output_type": "stream",
     "text": [
      "✅ Target created | Sample:\n"
     ]
    },
    {
     "data": {
      "text/html": [
       "<div>\n",
       "<style scoped>\n",
       "    .dataframe tbody tr th:only-of-type {\n",
       "        vertical-align: middle;\n",
       "    }\n",
       "\n",
       "    .dataframe tbody tr th {\n",
       "        vertical-align: top;\n",
       "    }\n",
       "\n",
       "    .dataframe thead th {\n",
       "        text-align: right;\n",
       "    }\n",
       "</style>\n",
       "<table border=\"1\" class=\"dataframe\">\n",
       "  <thead>\n",
       "    <tr style=\"text-align: right;\">\n",
       "      <th></th>\n",
       "      <th>lastPrice</th>\n",
       "      <th>future_price</th>\n",
       "      <th>return_1d</th>\n",
       "      <th>target</th>\n",
       "    </tr>\n",
       "  </thead>\n",
       "  <tbody>\n",
       "  </tbody>\n",
       "</table>\n",
       "</div>"
      ],
      "text/plain": [
       "Empty DataFrame\n",
       "Columns: [lastPrice, future_price, return_1d, target]\n",
       "Index: []"
      ]
     },
     "execution_count": 4,
     "metadata": {},
     "output_type": "execute_result"
    }
   ],
   "source": [
    "# Sort to simulate next-row return\n",
    "df = df.sort_values(by=[\"retrieved\", \"ticker\"])\n",
    "\n",
    "df[\"future_price\"] = df[\"lastPrice\"].shift(-1)\n",
    "df[\"return_1d\"] = (df[\"future_price\"] - df[\"lastPrice\"]) / df[\"lastPrice\"]\n",
    "df[\"target\"] = np.where(df[\"return_1d\"] > 0.02, 1, 0)\n",
    "\n",
    "df.dropna(inplace=True)\n",
    "\n",
    "print(\"✅ Final shape after target creation:\", df.shape)\n",
    "df[[\"lastPrice\", \"future_price\", \"return_1d\", \"target\"]].head()"
   ]
  },
  {
   "cell_type": "code",
   "execution_count": 5,
   "id": "6c5f103c-578f-4c68-a74f-738095432da2",
   "metadata": {},
   "outputs": [
    {
     "name": "stdout",
     "output_type": "stream",
     "text": [
      "✅ Cleaned dataset saved to data/processed/combined_options_clean.csv\n"
     ]
    }
   ],
   "source": [
    "df.to_csv(\"../data/processed/combined_options_clean.csv\", index=False)\n",
    "print(\"✅ Clean dataset saved to data/processed/combined_options_clean.csv\")"
   ]
  },
  {
   "cell_type": "code",
   "execution_count": null,
   "id": "1e0f4126-f075-454b-9801-5e4ec891e2f2",
   "metadata": {},
   "outputs": [],
   "source": []
  }
 ],
 "metadata": {
  "kernelspec": {
   "display_name": "Python 3 (ipykernel)",
   "language": "python",
   "name": "python3"
  },
  "language_info": {
   "codemirror_mode": {
    "name": "ipython",
    "version": 3
   },
   "file_extension": ".py",
   "mimetype": "text/x-python",
   "name": "python",
   "nbconvert_exporter": "python",
   "pygments_lexer": "ipython3",
   "version": "3.13.5"
  }
 },
 "nbformat": 4,
 "nbformat_minor": 5
}
